{
  "nbformat": 4,
  "nbformat_minor": 0,
  "metadata": {
    "colab": {
      "provenance": [],
      "authorship_tag": "ABX9TyOPVs6txXVOyV6GGcLTJ9xR",
      "include_colab_link": true
    },
    "kernelspec": {
      "name": "python3",
      "display_name": "Python 3"
    },
    "language_info": {
      "name": "python"
    }
  },
  "cells": [
    {
      "cell_type": "markdown",
      "metadata": {
        "id": "view-in-github",
        "colab_type": "text"
      },
      "source": [
        "<a href=\"https://colab.research.google.com/github/marcossiliprandi/MVP_Machine-learning_Analytics/blob/main/MVP_Classificador_de_cr%C3%A9dito.ipynb\" target=\"_parent\"><img src=\"https://colab.research.google.com/assets/colab-badge.svg\" alt=\"Open In Colab\"/></a>"
      ]
    },
    {
      "cell_type": "markdown",
      "source": [
        "#**MVP da sprint Machine Learning & Analytics**\n",
        "\n",
        "Uma determinada instituição financeira encontra-se com problemas na liberação de crédito a determinados clientes, que vem gerando prejuízos financeiros.\n",
        "\n",
        "Considerando que o principal problema está em classificar os clientes como bons e maus pagadores, irei utilizar algorítimos de machine learning de classificação para que a instituição possa realizar a liberação de credito de forma mais assertiva.\n",
        "\n",
        "Utilizando um dataset que possui os dados históricos dos clientes com informações como idade, duração, histórico de crédito, finalidade, fiador, estado civil, emprego entre outros. Esses dados estão associados ao atributo classe que identifica se o cliente é ou não um bom pagador."
      ],
      "metadata": {
        "id": "0NNINnDZlFdo"
      }
    },
    {
      "cell_type": "markdown",
      "source": [
        "##Preparando os dados"
      ],
      "metadata": {
        "id": "8YwzZZ--AjFI"
      }
    },
    {
      "cell_type": "code",
      "execution_count": 4,
      "metadata": {
        "id": "sA5MMNgEkiWN"
      },
      "outputs": [],
      "source": [
        "# Para iniciar será realizado a importação das bibliotecas necessárias\n",
        "\n",
        "# Importar, manipular e analisar dados\n",
        "import pandas as pd\n",
        "import numpy as np\n",
        "\n",
        "import matplotlib.pyplot as plt # Criação de gráficos\n",
        "from sklearn.model_selection import train_test_split # Separar base de teste e treino\n",
        "from sklearn.metrics import accuracy_score # Mostrar acurácia\n",
        "from sklearn.preprocessing import LabelEncoder # Transformar atributos em numéricos\n",
        "\n",
        "# Algorítimos de machine learning de classificação\n",
        "from sklearn.neighbors import KNeighborsClassifier #KNN\n",
        "from sklearn.tree import DecisionTreeClassifier #Árvore de Classificação\n",
        "from sklearn.naive_bayes import GaussianNB #Naive Bayes\n",
        "from sklearn.svm import SVC #SVM\n",
        "\n",
        "# Validação Cruzada\n",
        "from sklearn.model_selection import KFold\n",
        "from sklearn.model_selection import cross_val_score"
      ]
    },
    {
      "cell_type": "code",
      "source": [
        "# Carregando os dados do dataset que se encontra no Github e utilizando o Pandas para tranformar em Dataframe.\n",
        "\n",
        "url_dados = 'https://raw.githubusercontent.com/marcossiliprandi/MVP_Machine-learning_Analytics/main/Credit.csv'\n",
        "\n",
        "credito = pd.read_csv(url_dados)"
      ],
      "metadata": {
        "id": "MP7k7fTT572x"
      },
      "execution_count": 5,
      "outputs": []
    },
    {
      "cell_type": "code",
      "source": [
        "# Formatando a matriz atributos e classe (target)\n",
        "\n",
        "atributos = credito.iloc[:,0:20].values\n",
        "classe = credito.iloc[:,20].values"
      ],
      "metadata": {
        "id": "y2GO1N0U-wgA"
      },
      "execution_count": 7,
      "outputs": []
    },
    {
      "cell_type": "code",
      "source": [
        "# Transformando atributos categóricos em numéricos\n",
        "\n",
        "for x in range(20):\n",
        "  if type(atributos[:,x][0]) == str:\n",
        "    atributos[:, x] = LabelEncoder().fit_transform(atributos[:, x])"
      ],
      "metadata": {
        "id": "0El6FUlLCJw5"
      },
      "execution_count": 50,
      "outputs": []
    }
  ]
}