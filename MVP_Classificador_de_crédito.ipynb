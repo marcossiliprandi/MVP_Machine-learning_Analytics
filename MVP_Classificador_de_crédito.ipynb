{
  "nbformat": 4,
  "nbformat_minor": 0,
  "metadata": {
    "colab": {
      "provenance": [],
      "collapsed_sections": [
        "8YwzZZ--AjFI"
      ],
      "authorship_tag": "ABX9TyNkOSgVGVof8j0gzg8J9SA2",
      "include_colab_link": true
    },
    "kernelspec": {
      "name": "python3",
      "display_name": "Python 3"
    },
    "language_info": {
      "name": "python"
    }
  },
  "cells": [
    {
      "cell_type": "markdown",
      "metadata": {
        "id": "view-in-github",
        "colab_type": "text"
      },
      "source": [
        "<a href=\"https://colab.research.google.com/github/marcossiliprandi/MVP_Machine-learning_Analytics/blob/main/MVP_Classificador_de_cr%C3%A9dito.ipynb\" target=\"_parent\"><img src=\"https://colab.research.google.com/assets/colab-badge.svg\" alt=\"Open In Colab\"/></a>"
      ]
    },
    {
      "cell_type": "markdown",
      "source": [
        "#**MVP da sprint Machine Learning & Analytics**\n",
        "\n",
        "Uma determinada instituição financeira encontra-se com problemas na liberação de crédito a seus clientes, que vem gerando prejuízos financeiros.\n",
        "\n",
        "Considerando que o principal problema está em classificar os clientes como bons e maus pagadores, irei utilizar algorítimos de machine learning de classificação para que a instituição possa realizar a liberação de credito de forma mais assertiva.\n",
        "\n",
        "Utilizando um dataset que possui os dados históricos dos clientes com informações como idade, duração, histórico de crédito, finalidade, fiador, estado civil, emprego entre outros. Esses dados estão associados ao atributo classe que identifica se o cliente é ou não um bom pagador."
      ],
      "metadata": {
        "id": "0NNINnDZlFdo"
      }
    },
    {
      "cell_type": "code",
      "execution_count": null,
      "metadata": {
        "id": "sA5MMNgEkiWN"
      },
      "outputs": [],
      "source": [
        "# Para iniciar será realizado a importação das bibliotecas necessárias\n",
        "\n",
        "import warnings\n",
        "warnings.filterwarnings(\"ignore\")\n",
        "\n",
        "# Importar, manipular e analisar dados\n",
        "import pandas as pd\n",
        "import numpy as np\n",
        "\n",
        "import matplotlib.pyplot as plt # Criação de gráficos\n",
        "from sklearn.model_selection import train_test_split # Separar base de teste e treino\n",
        "from sklearn.metrics import accuracy_score # Mostrar acurácia\n",
        "from sklearn.preprocessing import LabelEncoder # Transformar atributos em numéricos\n",
        "\n",
        "# Algorítimos de machine learning de classificação\n",
        "from sklearn.neighbors import KNeighborsClassifier #KNN\n",
        "from sklearn.tree import DecisionTreeClassifier #Árvore de Classificação\n",
        "from sklearn.naive_bayes import GaussianNB #Naive Bayes\n",
        "from sklearn.svm import SVC #SVM\n",
        "\n",
        "# Validação Cruzada\n",
        "from sklearn.model_selection import KFold\n",
        "from sklearn.model_selection import cross_val_score"
      ]
    },
    {
      "cell_type": "markdown",
      "source": [
        "##Preparando os dados\n",
        "\n",
        "Neste bloco de código estarei utilizando o Pandas para carregar o dataset. Em seguida será criado a matriz de dados e a matriz classes (target) que serão utilizadas no método train_test_split para alimentar de forma aleatória as variáveis de treino e teste conforme a técnica holdout, como possuímos dados categóricos utiliza-se a biblioteca LabelEncoder para transformá-los em numérico e para finalizar a fase de preparação de dados criaremos o Folds para realizar a validação cruzada."
      ],
      "metadata": {
        "id": "8YwzZZ--AjFI"
      }
    },
    {
      "cell_type": "code",
      "source": [
        "# Carregando os dados do dataset que se encontra no Github e utilizando o Pandas para tranformar em Dataframe.\n",
        "\n",
        "url_dados = 'https://raw.githubusercontent.com/marcossiliprandi/MVP_Machine-learning_Analytics/main/Credit.csv'\n",
        "\n",
        "credito = pd.read_csv(url_dados)"
      ],
      "metadata": {
        "id": "MP7k7fTT572x"
      },
      "execution_count": null,
      "outputs": []
    },
    {
      "cell_type": "code",
      "source": [
        "# Formatando a matriz dados e classe (target)\n",
        "\n",
        "dados = credito.iloc[:,0:20].values\n",
        "classe = credito.iloc[:,20].values"
      ],
      "metadata": {
        "id": "y2GO1N0U-wgA"
      },
      "execution_count": null,
      "outputs": []
    },
    {
      "cell_type": "code",
      "source": [
        "# Transformando atributos categóricos em numéricos\n",
        "\n",
        "for x in range(20):\n",
        "  if type(dados[:,x][0]) == str:\n",
        "    dados[:, x] = LabelEncoder().fit_transform(dados[:, x])"
      ],
      "metadata": {
        "id": "0El6FUlLCJw5"
      },
      "execution_count": null,
      "outputs": []
    },
    {
      "cell_type": "code",
      "source": [
        "#Aplicando a técnica holdout e separando os dados de em 30% para teste e 70% para treino. Para manter a mesma amostragem durante a execução estou utilizando o parâmetro random_state\n",
        "\n",
        "X_treino, X_teste, y_treino, y_teste = train_test_split(dados, classe, test_size = 0.3, random_state = 10)"
      ],
      "metadata": {
        "id": "vQqLOztG_hp_"
      },
      "execution_count": null,
      "outputs": []
    },
    {
      "cell_type": "code",
      "source": [
        "# Criando os folds para a validação cruzada\n",
        "\n",
        "kfold = KFold(n_splits=5, shuffle=True, random_state=10) #Particionando em 5 folds"
      ],
      "metadata": {
        "id": "yewMewCM6LnZ"
      },
      "execution_count": null,
      "outputs": []
    },
    {
      "cell_type": "markdown",
      "source": [
        "## Modelagem\n",
        "\n",
        "Para encontrar o melhor modelo entre os selecionados no inicio do código, os algorítimos serão testados um a um no método de validação cruzada utilizando como método de avaliação a acurácia. Após a avaliação de todos os algorítimos, um boxplot e a média das acurácias irão ser impressas na tela para a avaliação do melhor modelo a ser utilizados para realizar o treinamento e teste."
      ],
      "metadata": {
        "id": "DDHnZZtF6bne"
      }
    },
    {
      "cell_type": "code",
      "source": [
        "\n",
        "# Criando listas para armazenar os nomes e métodos dos algorítimos a serem testados\n",
        "\n",
        "modelos = []\n",
        "nomes = []\n",
        "\n",
        "# Lista para armazenar os resultados da avaliação\n",
        "\n",
        "resultados = []\n",
        "\n",
        "# Carregando a lista modelos\n",
        "modelos.append(('KNN', KNeighborsClassifier()))\n",
        "modelos.append(('CART', DecisionTreeClassifier()))\n",
        "modelos.append(('NB', GaussianNB()))\n",
        "modelos.append(('SVM', SVC()))"
      ],
      "metadata": {
        "id": "ZQrnkv7IDsGX"
      },
      "execution_count": null,
      "outputs": []
    },
    {
      "cell_type": "code",
      "source": [
        "# Função utilizada para manter o resultado em novas execuções\n",
        "\n",
        "np.random.seed(10)\n",
        "\n",
        "# Realizando a avaliação de cada modelo\n",
        "\n",
        "for nome, modelo in modelos:\n",
        "  resultado = cross_val_score(modelo, X_treino, y_treino, cv=kfold, scoring='accuracy')\n",
        "  resultados.append(resultado)\n",
        "  nomes.append(nome)\n",
        "  print(\"%s: %f (%f)\" % (nome, resultado.mean(), resultado.std()))"
      ],
      "metadata": {
        "colab": {
          "base_uri": "https://localhost:8080/"
        },
        "id": "x8GNGexdqmqn",
        "outputId": "e183cb8f-bc35-4ef9-e76d-3a2d51a7e9e5"
      },
      "execution_count": null,
      "outputs": [
        {
          "output_type": "stream",
          "name": "stdout",
          "text": [
            "KNN: 0.650000 (0.036978)\n",
            "CART: 0.671429 (0.050910)\n",
            "NB: 0.700000 (0.045848)\n",
            "SVM: 0.714286 (0.043566)\n"
          ]
        }
      ]
    },
    {
      "cell_type": "code",
      "source": [
        "# Mostrando gráfico comparativo das acurácias dos modelos\n",
        "\n",
        "fig = plt.figure()\n",
        "fig.suptitle('Comparação da Acurácia dos Modelos')\n",
        "ax = fig.add_subplot(111)\n",
        "plt.boxplot(resultados)\n",
        "ax.set_xticklabels(nomes)\n",
        "plt.show()"
      ],
      "metadata": {
        "colab": {
          "base_uri": "https://localhost:8080/",
          "height": 478
        },
        "id": "w5fItpmtIUGi",
        "outputId": "23e93c6b-d5b1-4098-82b5-9a3459cfde0b"
      },
      "execution_count": null,
      "outputs": [
        {
          "output_type": "display_data",
          "data": {
            "text/plain": [
              "<Figure size 640x480 with 1 Axes>"
            ],
            "image/png": "[encoded data removed]"
          },
          "metadata": {}
        }
      ]
    },
    {
      "cell_type": "code",
      "source": [
        "# Analisando as informações de acurácia de cada modelo, optarei por seguir o treinamento utilizando o algorítimo SVM\n",
        "\n",
        "# Criando o modelo de teste\n",
        "\n",
        "modelo = SVC()\n",
        "modelo.fit(X_treino,y_treino)\n",
        "\n",
        "# Realizando as predições de testes\n",
        "\n",
        "predicao = modelo.predict(X_teste)\n",
        "\n",
        "# Verificando acurácia de teste\n",
        "\n",
        "acur = accuracy_score(y_teste,predicao)\n",
        "print(\"A acurácia do conjunto de teste é de %f\" % (acur))"
      ],
      "metadata": {
        "colab": {
          "base_uri": "https://localhost:8080/"
        },
        "id": "emWcvjyGSOHQ",
        "outputId": "ef877d7b-bad3-4ae2-e8fd-8069eafc57a1"
      },
      "execution_count": null,
      "outputs": [
        {
          "output_type": "stream",
          "name": "stdout",
          "text": [
            "A acurácia do conjunto de teste é de 0.693333\n"
          ]
        }
      ]
    },
    {
      "cell_type": "code",
      "source": [
        "# Analisando o resultado do modelo SVM, realizarei a fim de teste o treinamento utilizando o algorítimo NB\n",
        "\n",
        "# Criando o modelo de teste\n",
        "\n",
        "modelo = GaussianNB()\n",
        "modelo.fit(X_treino,y_treino)\n",
        "\n",
        "# Realizando as predições de testes\n",
        "\n",
        "predicao = modelo.predict(X_teste)\n",
        "\n",
        "# Verificando acurácia de teste\n",
        "\n",
        "acur = accuracy_score(y_teste,predicao)\n",
        "print(\"A acurácia do conjunto de teste é de %f\" % (acur))"
      ],
      "metadata": {
        "colab": {
          "base_uri": "https://localhost:8080/"
        },
        "id": "yU-ezfhvXWfX",
        "outputId": "8a135d5d-3556-4bcc-90bf-060e8bd5e1be"
      },
      "execution_count": null,
      "outputs": [
        {
          "output_type": "stream",
          "name": "stdout",
          "text": [
            "A acurácia do conjunto de teste é de 0.703333\n"
          ]
        }
      ]
    },
    {
      "cell_type": "markdown",
      "source": [
        "## Análise dos Modelos\n",
        "\n",
        "Ao avaliar os modelos utilizando o validação cruzada conclui-se que o modelo com a maior acurácia foi o SVM com 71,4%, no qual realizei o treinamento e teste. Verifiquei a acurácia e a predição não estão obtendo o resultado esperado e realizei um novo trinamento e teste utilizando o algorítimo Naive Bayes, que teve uma acurácia de 70% na avaliação.\n",
        "\n",
        "Com o algorítimo NB obtive um resultado mais próximo do esperado com uma acurácia se mantendo em 70% enquanto o SVM teve uma acurácia de teste de 69,3%. Cheguei a conclusão que para melhorar o resultado será necessário realizar a feature selection."
      ],
      "metadata": {
        "id": "SkL8jqZE5yHH"
      }
    },
    {
      "cell_type": "markdown",
      "source": [
        "# Seleção de atributos\n",
        "\n",
        "Neste bloco de código utilizarei as técnicas de Seleção Univariada, Eliminação Recursiva e Importância de Atributos para identificar os melhores atributos de cada método e no fim realizar uma análise dos resultados."
      ],
      "metadata": {
        "id": "HvfuaGYvBYHx"
      }
    },
    {
      "cell_type": "markdown",
      "source": [
        "###Seleção Univariada"
      ],
      "metadata": {
        "id": "f6NX-tytLj9x"
      }
    },
    {
      "cell_type": "code",
      "source": [
        "# Importando as bibliotecas de seleção univariada\n",
        "from sklearn.feature_selection import SelectKBest\n",
        "from sklearn.feature_selection import f_classif\n",
        "\n",
        "# Selecionando os melhores atributos\n",
        "\n",
        "sb = SelectKBest(score_func=f_classif, k=4)\n",
        "\n",
        "# Obtendo os atributos selecionados\n",
        "\n",
        "fit = sb.fit(dados,classe)\n",
        "selecionados = fit.transform(dados)\n",
        "\n",
        "# Exibibindo os atributos selecionados\n",
        "\n",
        "print(\"Atributos selecionados:\", sb.get_feature_names_out(input_features=credito.columns[0:-1]))"
      ],
      "metadata": {
        "colab": {
          "base_uri": "https://localhost:8080/"
        },
        "id": "9TRhTL8UhRXc",
        "outputId": "4e86bb55-301e-4532-ebeb-c26b2c765737"
      },
      "execution_count": null,
      "outputs": [
        {
          "output_type": "stream",
          "name": "stdout",
          "text": [
            "Atributos selecionados: ['checking_status' 'duration' 'credit_amount' 'savings_status']\n"
          ]
        }
      ]
    },
    {
      "cell_type": "code",
      "source": [
        "# Selecionando os atributos da amostragem separada aleatoriamente para treinar os modelos anteriores.\n",
        "\n",
        "X_treino_fs = selecionados[0:len(X_treino)]"
      ],
      "metadata": {
        "id": "TuwOsVbizZal"
      },
      "execution_count": null,
      "outputs": []
    },
    {
      "cell_type": "code",
      "source": [
        "# Função utilizada para manter o resultado em novas execuções\n",
        "\n",
        "np.random.seed(10)\n",
        "\n",
        "# Realizando a avaliação de cada modelo com os atributos selecionados\n",
        "\n",
        "for nome, modelo in modelos:\n",
        "  resultado = cross_val_score(modelo, X_treino_fs, y_treino, cv=kfold, scoring='accuracy')\n",
        "  resultados.append(resultado)\n",
        "  nomes.append(nome)\n",
        "  print(\"%s: %f (%f)\" % (nome, resultado.mean(), resultado.std()))"
      ],
      "metadata": {
        "colab": {
          "base_uri": "https://localhost:8080/"
        },
        "id": "5dwpO81ole3t",
        "outputId": "f1437347-184b-4f83-e17e-aa231179f5c2"
      },
      "execution_count": null,
      "outputs": [
        {
          "output_type": "stream",
          "name": "stdout",
          "text": [
            "KNN: 0.677143 (0.032071)\n",
            "CART: 0.608571 (0.037634)\n",
            "NB: 0.700000 (0.039641)\n",
            "SVM: 0.710000 (0.042523)\n"
          ]
        }
      ]
    },
    {
      "cell_type": "markdown",
      "source": [
        "###Eliminação Recursiva dos atributos"
      ],
      "metadata": {
        "id": "nPDqsQ3oL07o"
      }
    },
    {
      "cell_type": "code",
      "source": [
        "# Importando as bibliotecas de eliminação recursiva\n",
        "from sklearn.feature_selection import RFE\n",
        "from sklearn.linear_model import LogisticRegression\n",
        "\n",
        "# Selecionando a Regressão logística como modelo\n",
        "\n",
        "modelo = LogisticRegression(max_iter=1000)\n",
        "\n",
        "# Selecionando os melhores atributos\n",
        "\n",
        "rfe = RFE(modelo, n_features_to_select=4)\n",
        "\n",
        "# Obtendo os atributos selecionados\n",
        "\n",
        "fit = rfe.fit(dados,classe)\n",
        "selecionados = fit.transform(dados)\n",
        "\n",
        "# Exibindo os atributos selecionados\n",
        "\n",
        "print(\"Nomes dos Atributos Selecionados: \", fit.get_feature_names_out(input_features=credito.columns[0:-1]))"
      ],
      "metadata": {
        "colab": {
          "base_uri": "https://localhost:8080/"
        },
        "id": "23U9ny_SpUbb",
        "outputId": "f819821a-03cf-45a8-f6e1-de5d032c8c35"
      },
      "execution_count": null,
      "outputs": [
        {
          "output_type": "stream",
          "name": "stdout",
          "text": [
            "Nomes dos Atributos Selecionados:  ['checking_status' 'credit_history' 'other_payment_plans' 'foreign_worker']\n"
          ]
        }
      ]
    },
    {
      "cell_type": "code",
      "source": [
        "# Selecionando os atributos da amostragem separada aleatoriamente para treinar os modelos anteriores.\n",
        "\n",
        "X_treino_fs = selecionados[0:len(X_treino)]"
      ],
      "metadata": {
        "id": "T--IsuQa3We2"
      },
      "execution_count": null,
      "outputs": []
    },
    {
      "cell_type": "code",
      "source": [
        "# Função utilizada para manter o resultado em novas execuções\n",
        "\n",
        "np.random.seed(10)\n",
        "\n",
        "# Realizando a avaliação de cada modelo\n",
        "\n",
        "for nome, modelo in modelos:\n",
        "  resultado = cross_val_score(modelo, X_treino_fs, y_treino, cv=kfold, scoring='accuracy')\n",
        "  resultados.append(resultado)\n",
        "  nomes.append(nome)\n",
        "  print(\"%s: %f (%f)\" % (nome, resultado.mean(), resultado.std()))"
      ],
      "metadata": {
        "colab": {
          "base_uri": "https://localhost:8080/"
        },
        "id": "rBYzM6ObsuNd",
        "outputId": "3f87d5df-9fb6-4a45-f9e4-32f94a84b136"
      },
      "execution_count": null,
      "outputs": [
        {
          "output_type": "stream",
          "name": "stdout",
          "text": [
            "KNN: 0.674286 (0.076479)\n",
            "CART: 0.697143 (0.038492)\n",
            "NB: 0.690000 (0.038492)\n",
            "SVM: 0.710000 (0.042523)\n"
          ]
        }
      ]
    },
    {
      "cell_type": "markdown",
      "source": [
        "###Importância de Atributos"
      ],
      "metadata": {
        "id": "cVyIULbMMBjJ"
      }
    },
    {
      "cell_type": "code",
      "source": [
        "# Importando a biblioteca ExtraTrees para classificar a importância dos atributos\n",
        "from sklearn.ensemble import ExtraTreesClassifier\n",
        "\n",
        "# Criando o modelo para seleção de atributos\n",
        "modelo = ExtraTreesClassifier(n_estimators=100)\n",
        "\n",
        "# Classificando os atributos\n",
        "fit = modelo.fit(dados,classe)\n",
        "\n",
        "# Exibindo os atributos de maior importância ao de menor importância\n",
        "importantes = fit.feature_importances_\n",
        "indices = np.argsort(importantes)[::-1]\n",
        "for i in indices:\n",
        "  print(\"O atributo %s possui %.3f de importância\" % (credito.columns[i], fit.feature_importances_[i]))"
      ],
      "metadata": {
        "colab": {
          "base_uri": "https://localhost:8080/"
        },
        "id": "nF-3E47MF7Qe",
        "outputId": "8c5b605b-89ff-4bb4-d757-6d9724c07577"
      },
      "execution_count": null,
      "outputs": [
        {
          "output_type": "stream",
          "name": "stdout",
          "text": [
            "O atributo checking_status possui 0.111 de importância\n",
            "O atributo duration possui 0.088 de importância\n",
            "O atributo credit_amount possui 0.078 de importância\n",
            "O atributo age possui 0.068 de importância\n",
            "O atributo credit_history possui 0.059 de importância\n",
            "O atributo purpose possui 0.059 de importância\n",
            "O atributo employment possui 0.054 de importância\n",
            "O atributo installment_commitment possui 0.052 de importância\n",
            "O atributo residence_since possui 0.052 de importância\n",
            "O atributo savings_status possui 0.051 de importância\n",
            "O atributo property_magnitude possui 0.051 de importância\n",
            "O atributo personal_status possui 0.043 de importância\n",
            "O atributo job possui 0.041 de importância\n",
            "O atributo other_payment_plans possui 0.039 de importância\n",
            "O atributo housing possui 0.035 de importância\n",
            "O atributo existing_credits possui 0.033 de importância\n",
            "O atributo own_telephone possui 0.031 de importância\n",
            "O atributo other_parties possui 0.023 de importância\n",
            "O atributo num_dependents possui 0.022 de importância\n",
            "O atributo foreign_worker possui 0.008 de importância\n"
          ]
        }
      ]
    },
    {
      "cell_type": "code",
      "source": [
        "# Selecionar os índices com maiores importância do extratrees\n",
        "\n",
        "indices = np.argsort(importantes)[::-1][:11]\n",
        "X_treino_fs = X_treino[:,indices]"
      ],
      "metadata": {
        "id": "7vS0bglSF8s2"
      },
      "execution_count": null,
      "outputs": []
    },
    {
      "cell_type": "code",
      "source": [
        "# Função utilizada para manter o resultado em novas execuções\n",
        "\n",
        "np.random.seed(10)\n",
        "\n",
        "# Realizando a avaliação de cada modelo\n",
        "\n",
        "for nome, modelo in modelos:\n",
        "  resultado = cross_val_score(modelo, X_treino_fs, y_treino, cv=kfold, scoring='accuracy')\n",
        "  resultados.append(resultado)\n",
        "  nomes.append(nome)\n",
        "  print(\"%s: %f (%f)\" % (nome, resultado.mean(), resultado.std()))"
      ],
      "metadata": {
        "colab": {
          "base_uri": "https://localhost:8080/"
        },
        "id": "HIXRrpWT-0cL",
        "outputId": "7624f810-21d1-4883-cbbc-19b7403afe14"
      },
      "execution_count": null,
      "outputs": [
        {
          "output_type": "stream",
          "name": "stdout",
          "text": [
            "KNN: 0.650000 (0.036978)\n",
            "CART: 0.657143 (0.041157)\n",
            "NB: 0.730000 (0.040758)\n",
            "SVM: 0.715714 (0.044584)\n"
          ]
        }
      ]
    },
    {
      "cell_type": "markdown",
      "source": [
        "## Análise da seleção de atributos\n",
        "\n",
        "Ao aplicar as técnicas de seleção de atributos avaliei cada técnica variando o valor de atributos selecionados (n_features) entre 4 e 12.\n",
        "\n",
        "Durante a análise dos testes verifiquei que utilizando as técnicas de Seleção Univariada e Eliminação Recursiva que quanto maior o valor de atributos selecionados menor acurácia dos modelos e ambas obtiveram o melhor resultado com a escolha de 4 atributos, apesar de haver diferença entre os atributos selecionados a maior acurácia continuou sendo do algorítimo SVM com 71% nas duas técnicas.\n",
        "\n",
        "Já a técnica de Importância de Atributos houve um melhor desempenho no algorítimo NB que alcançou 73% de acurácia utilizando os 11 atributos mais importantes, passando nesse momento a ser o algorítimo com a melhor acurácia enquanto SVM continuo com a acurácia de aproximadamente 71%.\n",
        "\n",
        "Concluí que a melhor técnica a ser aplicada nesse momento seria a de importância de atributos utilizando os 11 mais importantes, porem para verificar se há a possibilidade de melhorar o desempenho estarei realizando teste com os métodos Ensembles."
      ],
      "metadata": {
        "id": "NYKK8mkXLoRS"
      }
    },
    {
      "cell_type": "markdown",
      "source": [
        "# Ensembles\n",
        "\n",
        "Buscando encontrar o melhor modelo preditivo neste bloco estarei utilizando os métodos ensembles bagging, boosting e voting que utilizam a combinação vários algorítimos de machine learning para obter melhores resultados nas previsões."
      ],
      "metadata": {
        "id": "4IE-vg_siV5A"
      }
    },
    {
      "cell_type": "code",
      "source": [
        "# Importando as bibliotecas necessárias para os modelos ensembles\n",
        "from sklearn.ensemble import BaggingClassifier\n",
        "from sklearn.ensemble import RandomForestClassifier\n",
        "from sklearn.ensemble import VotingClassifier\n",
        "from sklearn.ensemble import AdaBoostClassifier\n",
        "from sklearn.ensemble import GradientBoostingClassifier\n",
        "from sklearn.linear_model import LogisticRegression\n",
        "\n",
        "# Obs.: A biblioteca ExtraTreesClassifier foi importada anteriormente"
      ],
      "metadata": {
        "id": "46XImbxSkxpH"
      },
      "execution_count": null,
      "outputs": []
    },
    {
      "cell_type": "code",
      "source": [
        "# Criando listas para armazenar os nomes e métodos ensembles a serem testados\n",
        "\n",
        "modelos_en = []\n",
        "nomes_en = []\n",
        "\n",
        "# Lista para armazenar os resultados da avaliação\n",
        "\n",
        "resultados_en = []\n",
        "\n",
        "# Adicionando parâmetros do classificador BaggingClassifier\n",
        "base = DecisionTreeClassifier()\n",
        "num_trees = 100\n",
        "max_features = 12\n",
        "\n",
        "# Criando os modelos para o VotingClassifier\n",
        "bases = []\n",
        "model1 = LogisticRegression(max_iter=500)\n",
        "bases.append(('logistic', model1))\n",
        "model2 = DecisionTreeClassifier()\n",
        "bases.append(('cart', model2))\n",
        "model3 = SVC()\n",
        "bases.append(('svm', model3))\n",
        "\n",
        "# Criando os ensembles e adicionando-os na lista de modelos\n",
        "modelos_en.append(('Bagging', BaggingClassifier(base_estimator=base, n_estimators=num_trees)))\n",
        "modelos_en.append(('RF', RandomForestClassifier(n_estimators=num_trees, max_features=max_features)))\n",
        "modelos_en.append(('ET', ExtraTreesClassifier(n_estimators=num_trees, max_features=max_features)))\n",
        "modelos_en.append(('Ada', AdaBoostClassifier(n_estimators=num_trees)))\n",
        "modelos_en.append(('GB', GradientBoostingClassifier(n_estimators=num_trees)))\n",
        "modelos_en.append(('Voting', VotingClassifier(bases)))"
      ],
      "metadata": {
        "id": "UMFhwbb_lywU"
      },
      "execution_count": null,
      "outputs": []
    },
    {
      "cell_type": "code",
      "source": [
        "# Função utilizada para manter o resultado em novas execuções\n",
        "\n",
        "np.random.seed(10)\n",
        "\n",
        "# Realizando a avaliação de cada modelo\n",
        "\n",
        "for nome_en, modelo_en in modelos_en:\n",
        "  resultado_en = cross_val_score(modelo_en, X_treino, y_treino, cv=kfold, scoring='accuracy')\n",
        "  resultados_en.append(resultado)\n",
        "  nomes_en.append(nome)\n",
        "  print(\"%s: %f (%f)\" % (nome_en, resultado_en.mean(), resultado_en.std()))"
      ],
      "metadata": {
        "colab": {
          "base_uri": "https://localhost:8080/"
        },
        "id": "XkRpLgh-pEeu",
        "outputId": "1387a917-f355-4f9e-c6f2-52eb284fa3c0"
      },
      "execution_count": null,
      "outputs": [
        {
          "output_type": "stream",
          "name": "stdout",
          "text": [
            "Bagging: 0.750000 (0.044032)\n",
            "RF: 0.757143 (0.043331)\n",
            "ET: 0.730000 (0.033625)\n",
            "Ada: 0.701429 (0.026878)\n",
            "GB: 0.738571 (0.032764)\n",
            "Voting: 0.715714 (0.037634)\n"
          ]
        }
      ]
    },
    {
      "cell_type": "markdown",
      "source": [
        "## Análise Ensembles\n",
        "\n",
        "Ao executar os métodos ensembles verifica-se que as acurácias obtiveram um melhor resultado comparado aos testes anteriores, destacando o método de classificação RandomForest que chegou a acurácia de 75,7% sendo até aqui a melhor acurácia obtida.\n",
        "\n",
        "Para checar se há a possibilidade de obter melhores resultados na próxima fase estarei utilizando utilizando técnicas de transformação de dados."
      ],
      "metadata": {
        "id": "Xn72ZoIGSYs1"
      }
    },
    {
      "cell_type": "markdown",
      "source": [
        "# Transformação de dados\n",
        "\n",
        "Para apresentar um melhor resultado vou utilizar as técnicas de Normalização e a Padronização para redimensionar os dados, para que não haja vazamento de dados o uso de Pipelines será necessário."
      ],
      "metadata": {
        "id": "ScybBC7PUoJV"
      }
    },
    {
      "cell_type": "code",
      "source": [
        "# Importação as bibliotecas necessárias\n",
        "\n",
        "from sklearn.preprocessing import StandardScaler # Padronização\n",
        "from sklearn.preprocessing import MinMaxScaler # Normalização\n",
        "from sklearn.pipeline import Pipeline # Pipeline (Vazamento de dados)"
      ],
      "metadata": {
        "id": "OgmP-onLs6CV"
      },
      "execution_count": null,
      "outputs": []
    },
    {
      "cell_type": "code",
      "source": [
        "# Criando listas para armazenar os nomes e métodos das Pipelines das técnicas de Padronização e Normalização\n",
        "\n",
        "pipelines = []\n",
        "nomes_pip = []\n",
        "\n",
        "# Lista para armazenar os resultados da avaliação\n",
        "resultados_pip = []\n",
        "\n",
        "# Selecionando os algorítimos\n",
        "reg_log = ('LR', LogisticRegression(max_iter=500))\n",
        "knn = ('KNN', KNeighborsClassifier())\n",
        "cart = ('CART', DecisionTreeClassifier())\n",
        "naive_bayes = ('NB', GaussianNB())\n",
        "svm = ('SVM', SVC())\n",
        "bagging = ('Bag', BaggingClassifier(base_estimator=base, n_estimators=num_trees))\n",
        "random_forest = ('RF', RandomForestClassifier(n_estimators=num_trees, max_features=max_features))\n",
        "extra_trees = ('ET', ExtraTreesClassifier(n_estimators=num_trees, max_features=max_features))\n",
        "adaboost = ('Ada', AdaBoostClassifier(n_estimators=num_trees))\n",
        "gradient_boosting = ('GB', GradientBoostingClassifier(n_estimators=num_trees))\n",
        "voting = ('Voting', VotingClassifier(bases))\n",
        "\n",
        "# Transformações que serão utilizadas\n",
        "padro = ('StandardScaler', StandardScaler())\n",
        "norm = ('MinMaxScaler', MinMaxScaler())\n",
        "\n",
        "# Padronizando os atributos\n",
        "pipelines.append(('LR-padr', Pipeline([padro, reg_log])))\n",
        "pipelines.append(('KNN-padr', Pipeline([padro, knn])))\n",
        "pipelines.append(('CART-padr', Pipeline([padro, cart])))\n",
        "pipelines.append(('NB-padr', Pipeline([padro, naive_bayes])))\n",
        "pipelines.append(('SVM-padr', Pipeline([padro, svm])))\n",
        "pipelines.append(('Bag-padr', Pipeline([padro, bagging])))\n",
        "pipelines.append(('RF-padr', Pipeline([padro, random_forest])))\n",
        "pipelines.append(('ET-padr', Pipeline([padro, extra_trees])))\n",
        "pipelines.append(('Ada-padr', Pipeline([padro, adaboost])))\n",
        "pipelines.append(('GB-padr', Pipeline([padro, gradient_boosting])))\n",
        "pipelines.append(('Vot-padr', Pipeline([padro, voting])))\n",
        "\n",
        "# Normalizando os atributos\n",
        "pipelines.append(('LR-norm', Pipeline([norm, reg_log])))\n",
        "pipelines.append(('KNN-norm', Pipeline([norm, knn])))\n",
        "pipelines.append(('CART-norm', Pipeline([norm, cart])))\n",
        "pipelines.append(('NB-norm', Pipeline([norm, naive_bayes])))\n",
        "pipelines.append(('SVM-norm', Pipeline([norm, svm])))\n",
        "pipelines.append(('Bag-norm', Pipeline([norm, bagging])))\n",
        "pipelines.append(('RF-norm', Pipeline([norm, random_forest])))\n",
        "pipelines.append(('ET-norm', Pipeline([norm, extra_trees])))\n",
        "pipelines.append(('Ada-norm', Pipeline([norm, adaboost])))\n",
        "pipelines.append(('GB-norm', Pipeline([norm, gradient_boosting])))\n",
        "pipelines.append(('Vot-norm', Pipeline([norm, voting])))"
      ],
      "metadata": {
        "id": "HLsWgdg209og"
      },
      "execution_count": null,
      "outputs": []
    },
    {
      "cell_type": "code",
      "source": [
        "# Função utilizada para manter o resultado em novas execuções\n",
        "\n",
        "np.random.seed(10)\n",
        "\n",
        "# Realizando a avaliação de cada modelo com a Pipeline\n",
        "for nome_pip, modelo_pip in pipelines:\n",
        "  resultado_pip = cross_val_score(modelo_pip, X_treino, y_treino, cv=kfold, scoring='accuracy')\n",
        "  resultados_pip.append(resultado_pip)\n",
        "  nomes_pip.append(nome_pip)\n",
        "  print(\"%s: %f (%f)\" % (nome_pip, resultado_pip.mean(), resultado_pip.std()))"
      ],
      "metadata": {
        "colab": {
          "base_uri": "https://localhost:8080/"
        },
        "id": "NQbO8DKc2i5L",
        "outputId": "0ab4b41f-99e2-4e8b-ed0b-0a8bb8e11431"
      },
      "execution_count": null,
      "outputs": [
        {
          "output_type": "stream",
          "name": "stdout",
          "text": [
            "LR-padr: 0.721429 (0.045848)\n",
            "KNN-padr: 0.704286 (0.047509)\n",
            "CART-padr: 0.670000 (0.052177)\n",
            "NB-padr: 0.698571 (0.040000)\n",
            "SVM-padr: 0.720000 (0.037088)\n",
            "Bag-padr: 0.747143 (0.045311)\n",
            "RF-padr: 0.762857 (0.042714)\n",
            "ET-padr: 0.738571 (0.031816)\n",
            "Ada-padr: 0.701429 (0.026878)\n",
            "GB-padr: 0.738571 (0.033074)\n",
            "Vot-padr: 0.727143 (0.035971)\n",
            "LR-norm: 0.725714 (0.044401)\n",
            "KNN-norm: 0.712857 (0.045491)\n",
            "CART-norm: 0.675714 (0.039538)\n",
            "NB-norm: 0.698571 (0.040000)\n",
            "SVM-norm: 0.724286 (0.043472)\n",
            "Bag-norm: 0.741429 (0.036812)\n",
            "RF-norm: 0.752857 (0.045535)\n",
            "ET-norm: 0.735714 (0.023905)\n",
            "Ada-norm: 0.701429 (0.026878)\n",
            "GB-norm: 0.740000 (0.031493)\n",
            "Vot-norm: 0.727143 (0.043189)\n"
          ]
        }
      ]
    },
    {
      "cell_type": "markdown",
      "source": [
        "## Análise da Transformação de dados\n",
        "\n",
        "Com os resultados obtidos pude observar que houve a melhora na acurácia em todos os algorítimos e métodos de classificação. O método RandomForest junto com a técnica de padronização atingiu a acurácia de 76,28%, sendo o método escolhido para a finalização do modelo."
      ],
      "metadata": {
        "id": "YFpis6_e609e"
      }
    },
    {
      "cell_type": "markdown",
      "source": [
        "# Finalizando o modelo"
      ],
      "metadata": {
        "id": "lgZf4ycjA5e2"
      }
    },
    {
      "cell_type": "code",
      "source": [
        "# Preparando o modelo\n",
        "\n",
        "fit = StandardScaler().fit(X_treino)\n",
        "treino = fit.transform(X_treino)\n",
        "RF = RandomForestClassifier(n_estimators=num_trees, max_features=max_features)\n",
        "RF.fit(treino, y_treino)"
      ],
      "metadata": {
        "colab": {
          "base_uri": "https://localhost:8080/",
          "height": 75
        },
        "id": "EytozjQ68YEO",
        "outputId": "e0dfeb45-9b35-47ff-d871-d7630b58ce18"
      },
      "execution_count": null,
      "outputs": [
        {
          "output_type": "execute_result",
          "data": {
            "text/plain": [
              "RandomForestClassifier(max_features=12)"
            ],
            "text/html": [
              "<style>#sk-container-id-2 {color: black;background-color: white;}#sk-container-id-2 pre{padding: 0;}#sk-container-id-2 div.sk-toggleable {background-color: white;}#sk-container-id-2 label.sk-toggleable__label {cursor: pointer;display: block;width: 100%;margin-bottom: 0;padding: 0.3em;box-sizing: border-box;text-align: center;}#sk-container-id-2 label.sk-toggleable__label-arrow:before {content: \"▸\";float: left;margin-right: 0.25em;color: #696969;}#sk-container-id-2 label.sk-toggleable__label-arrow:hover:before {color: black;}#sk-container-id-2 div.sk-estimator:hover label.sk-toggleable__label-arrow:before {color: black;}#sk-container-id-2 div.sk-toggleable__content {max-height: 0;max-width: 0;overflow: hidden;text-align: left;background-color: #f0f8ff;}#sk-container-id-2 div.sk-toggleable__content pre {margin: 0.2em;color: black;border-radius: 0.25em;background-color: #f0f8ff;}#sk-container-id-2 input.sk-toggleable__control:checked~div.sk-toggleable__content {max-height: 200px;max-width: 100%;overflow: auto;}#sk-container-id-2 input.sk-toggleable__control:checked~label.sk-toggleable__label-arrow:before {content: \"▾\";}#sk-container-id-2 div.sk-estimator input.sk-toggleable__control:checked~label.sk-toggleable__label {background-color: #d4ebff;}#sk-container-id-2 div.sk-label input.sk-toggleable__control:checked~label.sk-toggleable__label {background-color: #d4ebff;}#sk-container-id-2 input.sk-hidden--visually {border: 0;clip: rect(1px 1px 1px 1px);clip: rect(1px, 1px, 1px, 1px);height: 1px;margin: -1px;overflow: hidden;padding: 0;position: absolute;width: 1px;}#sk-container-id-2 div.sk-estimator {font-family: monospace;background-color: #f0f8ff;border: 1px dotted black;border-radius: 0.25em;box-sizing: border-box;margin-bottom: 0.5em;}#sk-container-id-2 div.sk-estimator:hover {background-color: #d4ebff;}#sk-container-id-2 div.sk-parallel-item::after {content: \"\";width: 100%;border-bottom: 1px solid gray;flex-grow: 1;}#sk-container-id-2 div.sk-label:hover label.sk-toggleable__label {background-color: #d4ebff;}#sk-container-id-2 div.sk-serial::before {content: \"\";position: absolute;border-left: 1px solid gray;box-sizing: border-box;top: 0;bottom: 0;left: 50%;z-index: 0;}#sk-container-id-2 div.sk-serial {display: flex;flex-direction: column;align-items: center;background-color: white;padding-right: 0.2em;padding-left: 0.2em;position: relative;}#sk-container-id-2 div.sk-item {position: relative;z-index: 1;}#sk-container-id-2 div.sk-parallel {display: flex;align-items: stretch;justify-content: center;background-color: white;position: relative;}#sk-container-id-2 div.sk-item::before, #sk-container-id-2 div.sk-parallel-item::before {content: \"\";position: absolute;border-left: 1px solid gray;box-sizing: border-box;top: 0;bottom: 0;left: 50%;z-index: -1;}#sk-container-id-2 div.sk-parallel-item {display: flex;flex-direction: column;z-index: 1;position: relative;background-color: white;}#sk-container-id-2 div.sk-parallel-item:first-child::after {align-self: flex-end;width: 50%;}#sk-container-id-2 div.sk-parallel-item:last-child::after {align-self: flex-start;width: 50%;}#sk-container-id-2 div.sk-parallel-item:only-child::after {width: 0;}#sk-container-id-2 div.sk-dashed-wrapped {border: 1px dashed gray;margin: 0 0.4em 0.5em 0.4em;box-sizing: border-box;padding-bottom: 0.4em;background-color: white;}#sk-container-id-2 div.sk-label label {font-family: monospace;font-weight: bold;display: inline-block;line-height: 1.2em;}#sk-container-id-2 div.sk-label-container {text-align: center;}#sk-container-id-2 div.sk-container {/* jupyter's `normalize.less` sets `[hidden] { display: none; }` but bootstrap.min.css set `[hidden] { display: none !important; }` so we also need the `!important` here to be able to override the default hidden behavior on the sphinx rendered scikit-learn.org. See: https://github.com/scikit-learn/scikit-learn/issues/21755 */display: inline-block !important;position: relative;}#sk-container-id-2 div.sk-text-repr-fallback {display: none;}</style><div id=\"sk-container-id-2\" class=\"sk-top-container\"><div class=\"sk-text-repr-fallback\"><pre>RandomForestClassifier(max_features=12)</pre><b>In a Jupyter environment, please rerun this cell to show the HTML representation or trust the notebook. <br />On GitHub, the HTML representation is unable to render, please try loading this page with nbviewer.org.</b></div><div class=\"sk-container\" hidden><div class=\"sk-item\"><div class=\"sk-estimator sk-toggleable\"><input class=\"sk-toggleable__control sk-hidden--visually\" id=\"sk-estimator-id-2\" type=\"checkbox\" checked><label for=\"sk-estimator-id-2\" class=\"sk-toggleable__label sk-toggleable__label-arrow\">RandomForestClassifier</label><div class=\"sk-toggleable__content\"><pre>RandomForestClassifier(max_features=12)</pre></div></div></div></div></div>"
            ]
          },
          "metadata": {},
          "execution_count": 62
        }
      ]
    },
    {
      "cell_type": "code",
      "source": [
        "# Realizando o modelo treinado no dataset separado para teste\n",
        "teste = fit.transform(X_teste)\n",
        "predictions = RF.predict(teste)\n",
        "\n",
        "# Verificando a acurácia\n",
        "print(accuracy_score(y_teste, predictions))"
      ],
      "metadata": {
        "colab": {
          "base_uri": "https://localhost:8080/"
        },
        "id": "LEY1SdaD9Y55",
        "outputId": "db2c990a-b423-476e-d2ad-b70ebe81dca4"
      },
      "execution_count": null,
      "outputs": [
        {
          "output_type": "stream",
          "name": "stdout",
          "text": [
            "0.7333333333333333\n"
          ]
        }
      ]
    },
    {
      "cell_type": "code",
      "source": [
        "# Realizando teste com todo o conjunto de teste\n",
        "\n",
        "fit = StandardScaler().fit(dados)\n",
        "final = fit.transform(dados)\n",
        "RF.fit(final,classe)"
      ],
      "metadata": {
        "id": "QAGNM00lAPuQ"
      },
      "execution_count": null,
      "outputs": []
    },
    {
      "cell_type": "markdown",
      "source": [
        "#Conclusão\n",
        "\n",
        "Para poder atender a solicitação da Instituição Financeira e classificar os clientes em bons e maus pagadores, inicialmente foi necessário realizar a importação de todas as bibliotecas de manipulação, importação e análise de dados e as bibliotecas referente aos algorítimos de machine learning de classificação. Após as importações foi realizado a carga do dataset para uma variável e em seguida aplicada a técnica Holdout, onde o dataset ficou dividido com 70% para treino e 30% para teste.\n",
        "\n",
        "Na fase de modelagem utilizamos os algorítimos KNN, Árvore de Classificação, Naive Bayes e SVM, com a validação cruzada, foram avaliados e comparados. Ao avaliar os resultados viu-se a necessidade de realização de testes para alcançar um melhor resultado. Sendo assim foram utilizadas as técnicas de Seleção de Atributos, Ensembles e de Transformação de Dados.\n",
        "\n",
        "Ao final das análises conclui que o melhor resultado obtido foi ao utilizar o método RandomForest da técnica Ensemble em conjunto com a técnica de Padronização, que chegou a acurácia de 76,28%. Ao realizar o treinamento e o teste com os métodos e técnicas escolhidos observa-se que a acurácia obtida foi de  73,33%, abaixo da esperada. Para que possa aumentar a acurácia neste caso seria necessário avaliar os atributos do dataset."
      ],
      "metadata": {
        "id": "si9BpBTxC5_q"
      }
    }
  ]
}