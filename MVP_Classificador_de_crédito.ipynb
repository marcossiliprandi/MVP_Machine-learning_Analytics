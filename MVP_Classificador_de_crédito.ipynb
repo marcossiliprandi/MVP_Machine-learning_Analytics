{
  "nbformat": 4,
  "nbformat_minor": 0,
  "metadata": {
    "colab": {
      "provenance": [],
      "authorship_tag": "ABX9TyM5fW3Y9IWVwRk8pQXtwFXx",
      "include_colab_link": true
    },
    "kernelspec": {
      "name": "python3",
      "display_name": "Python 3"
    },
    "language_info": {
      "name": "python"
    }
  },
  "cells": [
    {
      "cell_type": "markdown",
      "metadata": {
        "id": "view-in-github",
        "colab_type": "text"
      },
      "source": [
        "<a href=\"https://colab.research.google.com/github/marcossiliprandi/MVP_Machine-learning_Analytics/blob/main/MVP_Classificador_de_cr%C3%A9dito.ipynb\" target=\"_parent\"><img src=\"https://colab.research.google.com/assets/colab-badge.svg\" alt=\"Open In Colab\"/></a>"
      ]
    },
    {
      "cell_type": "markdown",
      "source": [
        "#**MVP da sprint Machine Learning & Analytics**\n",
        "\n",
        "Uma determinada instituição financeira encontra-se com problemas na liberação de crédito a seus clientes, que vem gerando prejuízos financeiros.\n",
        "\n",
        "Considerando que o principal problema está em classificar os clientes como bons e maus pagadores, irei utilizar algorítimos de machine learning de classificação para que a instituição possa realizar a liberação de credito de forma mais assertiva.\n",
        "\n",
        "Utilizando um dataset que possui os dados históricos dos clientes com informações como idade, duração, histórico de crédito, finalidade, fiador, estado civil, emprego entre outros. Esses dados estão associados ao atributo classe que identifica se o cliente é ou não um bom pagador."
      ],
      "metadata": {
        "id": "0NNINnDZlFdo"
      }
    },
    {
      "cell_type": "code",
      "execution_count": 1,
      "metadata": {
        "id": "sA5MMNgEkiWN"
      },
      "outputs": [],
      "source": [
        "# Para iniciar será realizado a importação das bibliotecas necessárias\n",
        "\n",
        "# Importar, manipular e analisar dados\n",
        "import pandas as pd\n",
        "import numpy as np\n",
        "\n",
        "import matplotlib.pyplot as plt # Criação de gráficos\n",
        "from sklearn.model_selection import train_test_split # Separar base de teste e treino\n",
        "from sklearn.metrics import accuracy_score # Mostrar acurácia\n",
        "from sklearn.preprocessing import LabelEncoder # Transformar atributos em numéricos\n",
        "\n",
        "# Algorítimos de machine learning de classificação\n",
        "from sklearn.neighbors import KNeighborsClassifier #KNN\n",
        "from sklearn.tree import DecisionTreeClassifier #Árvore de Classificação\n",
        "from sklearn.naive_bayes import GaussianNB #Naive Bayes\n",
        "from sklearn.svm import SVC #SVM\n",
        "\n",
        "# Validação Cruzada\n",
        "from sklearn.model_selection import KFold\n",
        "from sklearn.model_selection import cross_val_score"
      ]
    },
    {
      "cell_type": "markdown",
      "source": [
        "##Preparando os dados\n",
        "\n",
        "Neste bloco de código estarei utilizando o Pandas para carregar o dataset. Em seguida será criado a matriz de dados e a matriz classes (target) que serão utilizadas no método train_test_split para alimentar de forma aleatória as variáveis de treino e teste conforme a técnica holdout, como possuímos dados categóricos utiliza-se a biblioteca LabelEncoder para transformá-los em numérico e para finalizar a fase de preparação de dados criaremos o Folds para realizar a validação cruzada."
      ],
      "metadata": {
        "id": "8YwzZZ--AjFI"
      }
    },
    {
      "cell_type": "code",
      "source": [
        "# Carregando os dados do dataset que se encontra no Github e utilizando o Pandas para tranformar em Dataframe.\n",
        "\n",
        "url_dados = 'https://raw.githubusercontent.com/marcossiliprandi/MVP_Machine-learning_Analytics/main/Credit.csv'\n",
        "\n",
        "credito = pd.read_csv(url_dados)"
      ],
      "metadata": {
        "id": "MP7k7fTT572x"
      },
      "execution_count": 2,
      "outputs": []
    },
    {
      "cell_type": "code",
      "source": [
        "# Formatando a matriz dados e classe (target)\n",
        "\n",
        "dados = credito.iloc[:,0:20].values\n",
        "classe = credito.iloc[:,20].values"
      ],
      "metadata": {
        "id": "y2GO1N0U-wgA"
      },
      "execution_count": 9,
      "outputs": []
    },
    {
      "cell_type": "code",
      "source": [
        "# Transformando atributos categóricos em numéricos\n",
        "\n",
        "for x in range(20):\n",
        "  if type(dados[:,x][0]) == str:\n",
        "    dados[:, x] = LabelEncoder().fit_transform(dados[:, x])"
      ],
      "metadata": {
        "id": "0El6FUlLCJw5"
      },
      "execution_count": 10,
      "outputs": []
    },
    {
      "cell_type": "code",
      "source": [
        "#Aplicando a técnica holdout para separar os dados de em 30% para teste e 70% para treino. Para manter a mesma amostragem durante a execução estou utilizando o parâmetro random_state\n",
        "\n",
        "X_treino, X_teste, y_treino, y_teste = train_test_split(dados, classe, test_size = 0.3, random_state = 10)"
      ],
      "metadata": {
        "id": "vQqLOztG_hp_"
      },
      "execution_count": 11,
      "outputs": []
    },
    {
      "cell_type": "code",
      "source": [
        "# Criando os folds para a validação cruzada\n",
        "\n",
        "kfold = KFold(n_splits=5, shuffle=True, random_state=10) #Particionando em 5 folds"
      ],
      "metadata": {
        "id": "yewMewCM6LnZ"
      },
      "execution_count": 12,
      "outputs": []
    },
    {
      "cell_type": "markdown",
      "source": [
        "## Modelagem\n",
        "\n",
        "Para encontrar o melhor modelo entre os selecionados no inicio do código, os algorítimos serão testados uma a um no método de validação cruzada utilizando como método de avaliação a acurácia. Após a avaliação de todos os algorítimos, um boxplot e a média das acurácias irão ser impressas na tela para a avaliação do melhor modelo a ser utilizados para realizar o treinamento e teste."
      ],
      "metadata": {
        "id": "DDHnZZtF6bne"
      }
    },
    {
      "cell_type": "code",
      "source": [
        "# Criando listas para armazenar os nomes e metodos dos algoritimos a serem testados\n",
        "\n",
        "modelos = []\n",
        "nomes = []\n",
        "\n",
        "# Lista para armazenar os resultados da avaliação\n",
        "\n",
        "resultados = []\n",
        "\n",
        "# Carregando a lista modelos\n",
        "modelos.append(('KNN', KNeighborsClassifier()))\n",
        "modelos.append(('CART', DecisionTreeClassifier()))\n",
        "modelos.append(('NB', GaussianNB()))\n",
        "modelos.append(('SVM', SVC()))\n"
      ],
      "metadata": {
        "id": "ZQrnkv7IDsGX"
      },
      "execution_count": 31,
      "outputs": []
    },
    {
      "cell_type": "code",
      "source": [
        "# Função utilizada para manter o resultado em novas execuções\n",
        "\n",
        "np.random.seed(10)\n",
        "\n",
        "# Realizando a avaliação de cada modelo\n",
        "\n",
        "for nome, modelo in modelos:\n",
        "  resultado = cross_val_score(modelo, X_treino, y_treino, cv=kfold, scoring='accuracy')\n",
        "  resultados.append(resultado)\n",
        "  nomes.append(nome)\n",
        "  print(\"%s: %f (%f)\" % (nome, resultado.mean(), resultado.std()))"
      ],
      "metadata": {
        "colab": {
          "base_uri": "https://localhost:8080/"
        },
        "id": "x8GNGexdqmqn",
        "outputId": "214c899c-b287-4e20-94ce-cd07a3e1cd93"
      },
      "execution_count": 33,
      "outputs": [
        {
          "output_type": "stream",
          "name": "stdout",
          "text": [
            "KNN: 0.650000 (0.036978)\n",
            "CART: 0.671429 (0.050910)\n",
            "NB: 0.700000 (0.045848)\n",
            "SVM: 0.714286 (0.043566)\n"
          ]
        }
      ]
    },
    {
      "cell_type": "code",
      "source": [
        "# Mostrando gráfico comparativo das acurácias dos modelos\n",
        "\n",
        "fig = plt.figure()\n",
        "fig.suptitle('Comparação da Acurácia dos Modelos')\n",
        "ax = fig.add_subplot(111)\n",
        "plt.boxplot(resultados)\n",
        "ax.set_xticklabels(nomes)\n",
        "plt.show()"
      ],
      "metadata": {
        "colab": {
          "base_uri": "https://localhost:8080/",
          "height": 478
        },
        "id": "w5fItpmtIUGi",
        "outputId": "bfcbc40a-835f-46b4-f11c-1e0d058578e5"
      },
      "execution_count": 35,
      "outputs": [
        {
          "output_type": "display_data",
          "data": {
            "text/plain": [
              "<Figure size 640x480 with 1 Axes>"
            ],
            "image/png": "[encoded data removed]"
          },
          "metadata": {}
        }
      ]
    },
    {
      "cell_type": "code",
      "source": [
        "# Analisando as informações de acurácia de cada modelo, optarei por seguir o treinamento utilizando o algoritimo SVM\n",
        "\n",
        "# Criando o modelo de teste\n",
        "\n",
        "modelo = SVC()\n",
        "modelo.fit(X_treino,y_treino)\n",
        "\n",
        "# Realizando as predições de testes\n",
        "\n",
        "predicao = modelo.predict(X_teste)\n",
        "\n",
        "# Verificando acurácia de teste\n",
        "\n",
        "acur = accuracy_score(y_teste,predicao)\n",
        "print(\"A acurácia do conjunto de teste é de %f\" % (acur))"
      ],
      "metadata": {
        "colab": {
          "base_uri": "https://localhost:8080/"
        },
        "id": "emWcvjyGSOHQ",
        "outputId": "60712b0f-5335-4553-a7a0-e4f59a578172"
      },
      "execution_count": 43,
      "outputs": [
        {
          "output_type": "stream",
          "name": "stdout",
          "text": [
            "A acurácia do conjunto de teste é de 0.693333\n"
          ]
        }
      ]
    },
    {
      "cell_type": "code",
      "source": [
        "predicao"
      ],
      "metadata": {
        "colab": {
          "base_uri": "https://localhost:8080/"
        },
        "id": "zsgrILmYW2vI",
        "outputId": "1fdd6d1f-2608-431d-ee88-89f5ae9803ac"
      },
      "execution_count": 44,
      "outputs": [
        {
          "output_type": "execute_result",
          "data": {
            "text/plain": [
              "array(['good', 'good', 'good', 'good', 'good', 'good', 'good', 'good',\n",
              "       'good', 'good', 'good', 'good', 'good', 'good', 'good', 'good',\n",
              "       'good', 'good', 'good', 'bad', 'good', 'good', 'good', 'good',\n",
              "       'good', 'good', 'good', 'good', 'good', 'good', 'bad', 'good',\n",
              "       'good', 'good', 'good', 'good', 'good', 'good', 'good', 'good',\n",
              "       'good', 'good', 'good', 'good', 'good', 'good', 'good', 'good',\n",
              "       'good', 'good', 'good', 'good', 'good', 'good', 'good', 'good',\n",
              "       'good', 'good', 'good', 'good', 'good', 'good', 'good', 'good',\n",
              "       'good', 'good', 'good', 'good', 'good', 'good', 'good', 'good',\n",
              "       'good', 'good', 'good', 'good', 'good', 'good', 'good', 'good',\n",
              "       'bad', 'good', 'good', 'good', 'good', 'good', 'good', 'good',\n",
              "       'good', 'good', 'good', 'good', 'good', 'good', 'good', 'good',\n",
              "       'good', 'good', 'good', 'good', 'good', 'good', 'good', 'good',\n",
              "       'good', 'good', 'good', 'good', 'good', 'good', 'good', 'good',\n",
              "       'good', 'good', 'good', 'good', 'good', 'good', 'good', 'good',\n",
              "       'good', 'good', 'good', 'good', 'good', 'good', 'good', 'good',\n",
              "       'good', 'good', 'good', 'good', 'good', 'good', 'good', 'good',\n",
              "       'good', 'good', 'good', 'good', 'good', 'good', 'good', 'good',\n",
              "       'good', 'good', 'good', 'good', 'good', 'good', 'good', 'good',\n",
              "       'good', 'good', 'good', 'good', 'good', 'good', 'good', 'good',\n",
              "       'good', 'good', 'good', 'good', 'good', 'good', 'good', 'good',\n",
              "       'good', 'good', 'good', 'good', 'good', 'good', 'good', 'good',\n",
              "       'good', 'good', 'good', 'good', 'good', 'good', 'good', 'good',\n",
              "       'good', 'good', 'good', 'good', 'good', 'good', 'good', 'good',\n",
              "       'bad', 'good', 'good', 'bad', 'good', 'good', 'good', 'good',\n",
              "       'good', 'good', 'good', 'good', 'good', 'good', 'good', 'good',\n",
              "       'good', 'good', 'good', 'good', 'good', 'good', 'good', 'good',\n",
              "       'good', 'good', 'good', 'good', 'good', 'good', 'good', 'good',\n",
              "       'good', 'good', 'good', 'good', 'good', 'good', 'good', 'good',\n",
              "       'good', 'good', 'good', 'good', 'good', 'good', 'good', 'good',\n",
              "       'good', 'good', 'good', 'good', 'good', 'good', 'good', 'good',\n",
              "       'good', 'good', 'good', 'good', 'good', 'good', 'good', 'good',\n",
              "       'good', 'good', 'good', 'good', 'good', 'good', 'good', 'good',\n",
              "       'good', 'good', 'good', 'good', 'good', 'good', 'good', 'good',\n",
              "       'good', 'good', 'good', 'good', 'good', 'good', 'good', 'good',\n",
              "       'good', 'good', 'good', 'good', 'good', 'good', 'good', 'good',\n",
              "       'good', 'good', 'good', 'good', 'good', 'good', 'good', 'good',\n",
              "       'good', 'good', 'good', 'good'], dtype=object)"
            ]
          },
          "metadata": {},
          "execution_count": 44
        }
      ]
    },
    {
      "cell_type": "code",
      "source": [
        "# Criando o modelo de teste\n",
        "\n",
        "modelo = GaussianNB()\n",
        "modelo.fit(X_treino,y_treino)\n",
        "\n",
        "# Realizando as predições de testes\n",
        "\n",
        "predicao = modelo.predict(X_teste)\n",
        "\n",
        "# Verificando acurácia de teste\n",
        "\n",
        "acur = accuracy_score(y_teste,predicao)\n",
        "print(\"A acurácia do conjunto de teste é de %f\" % (acur))"
      ],
      "metadata": {
        "colab": {
          "base_uri": "https://localhost:8080/"
        },
        "id": "yU-ezfhvXWfX",
        "outputId": "71eb1592-82de-45e5-9d50-f352a511ed28"
      },
      "execution_count": 41,
      "outputs": [
        {
          "output_type": "stream",
          "name": "stdout",
          "text": [
            "A acurácia do conjunto de teste é de 0.703333\n"
          ]
        }
      ]
    },
    {
      "cell_type": "code",
      "source": [
        "predicao"
      ],
      "metadata": {
        "colab": {
          "base_uri": "https://localhost:8080/"
        },
        "outputId": "b518a62e-d70c-4e43-ff1b-ef567599d0c5",
        "id": "6T9b41rHYH-F"
      },
      "execution_count": 45,
      "outputs": [
        {
          "output_type": "execute_result",
          "data": {
            "text/plain": [
              "array(['good', 'good', 'good', 'good', 'good', 'good', 'good', 'good',\n",
              "       'good', 'good', 'good', 'good', 'good', 'good', 'good', 'good',\n",
              "       'good', 'good', 'good', 'bad', 'good', 'good', 'good', 'good',\n",
              "       'good', 'good', 'good', 'good', 'good', 'good', 'bad', 'good',\n",
              "       'good', 'good', 'good', 'good', 'good', 'good', 'good', 'good',\n",
              "       'good', 'good', 'good', 'good', 'good', 'good', 'good', 'good',\n",
              "       'good', 'good', 'good', 'good', 'good', 'good', 'good', 'good',\n",
              "       'good', 'good', 'good', 'good', 'good', 'good', 'good', 'good',\n",
              "       'good', 'good', 'good', 'good', 'good', 'good', 'good', 'good',\n",
              "       'good', 'good', 'good', 'good', 'good', 'good', 'good', 'good',\n",
              "       'bad', 'good', 'good', 'good', 'good', 'good', 'good', 'good',\n",
              "       'good', 'good', 'good', 'good', 'good', 'good', 'good', 'good',\n",
              "       'good', 'good', 'good', 'good', 'good', 'good', 'good', 'good',\n",
              "       'good', 'good', 'good', 'good', 'good', 'good', 'good', 'good',\n",
              "       'good', 'good', 'good', 'good', 'good', 'good', 'good', 'good',\n",
              "       'good', 'good', 'good', 'good', 'good', 'good', 'good', 'good',\n",
              "       'good', 'good', 'good', 'good', 'good', 'good', 'good', 'good',\n",
              "       'good', 'good', 'good', 'good', 'good', 'good', 'good', 'good',\n",
              "       'good', 'good', 'good', 'good', 'good', 'good', 'good', 'good',\n",
              "       'good', 'good', 'good', 'good', 'good', 'good', 'good', 'good',\n",
              "       'good', 'good', 'good', 'good', 'good', 'good', 'good', 'good',\n",
              "       'good', 'good', 'good', 'good', 'good', 'good', 'good', 'good',\n",
              "       'good', 'good', 'good', 'good', 'good', 'good', 'good', 'good',\n",
              "       'good', 'good', 'good', 'good', 'good', 'good', 'good', 'good',\n",
              "       'bad', 'good', 'good', 'bad', 'good', 'good', 'good', 'good',\n",
              "       'good', 'good', 'good', 'good', 'good', 'good', 'good', 'good',\n",
              "       'good', 'good', 'good', 'good', 'good', 'good', 'good', 'good',\n",
              "       'good', 'good', 'good', 'good', 'good', 'good', 'good', 'good',\n",
              "       'good', 'good', 'good', 'good', 'good', 'good', 'good', 'good',\n",
              "       'good', 'good', 'good', 'good', 'good', 'good', 'good', 'good',\n",
              "       'good', 'good', 'good', 'good', 'good', 'good', 'good', 'good',\n",
              "       'good', 'good', 'good', 'good', 'good', 'good', 'good', 'good',\n",
              "       'good', 'good', 'good', 'good', 'good', 'good', 'good', 'good',\n",
              "       'good', 'good', 'good', 'good', 'good', 'good', 'good', 'good',\n",
              "       'good', 'good', 'good', 'good', 'good', 'good', 'good', 'good',\n",
              "       'good', 'good', 'good', 'good', 'good', 'good', 'good', 'good',\n",
              "       'good', 'good', 'good', 'good', 'good', 'good', 'good', 'good',\n",
              "       'good', 'good', 'good', 'good'], dtype=object)"
            ]
          },
          "metadata": {},
          "execution_count": 45
        }
      ]
    }
  ]
}